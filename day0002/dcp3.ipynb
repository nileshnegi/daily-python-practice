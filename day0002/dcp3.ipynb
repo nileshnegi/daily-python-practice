{
 "cells": [
  {
   "cell_type": "markdown",
   "metadata": {},
   "source": [
    "**Daily Coding Problem \\#3**"
   ]
  },
  {
   "cell_type": "markdown",
   "metadata": {},
   "source": [
    "Given the root to a binary tree, implement serialize(root), which serializes the tree into a string,<br>\n",
    "and deserialize(s), which deserializes the string back into the tree.<br>\n",
    "<br>\n",
    "For example, given the following Node class<br>\n",
    "<pre>\n",
    "class Node:\n",
    "    def __init__(self, val, left=None, right=None):\n",
    "        self.val = val\n",
    "        self.left = left\n",
    "        self.right = right\n",
    "</pre>\n",
    "<br>\n",
    "The following test should pass:<br>\n",
    "<pre>\n",
    "node = Node('root', Node('left', Node('left.left')), Node('right'))\n",
    "assert deserialize(serialize(node)).left.left.val == 'left.left'\n",
    "</pre>"
   ]
  },
  {
   "cell_type": "code",
   "execution_count": 5,
   "metadata": {},
   "outputs": [
    {
     "name": "stdout",
     "output_type": "stream",
     "text": [
      "Writing dcp1_1.py\n"
     ]
    }
   ],
   "source": [
    "#%%writefile dcp3_1.py\n",
    "#Daily Coding Problem #3 [Medium]\n",
    "#Given the root to a binary tree, implement serialize(root), which serializes the tree into a string,\n",
    "#and deserialize(s), which deserializes the string back into the tree.\n",
    "#For example, given the following Node class\n",
    "#class Node:\n",
    "#    def __init__(self, val, left=None, right=None):\n",
    "#        self.val = val\n",
    "#        self.left = left\n",
    "#        self.right = right\n",
    "#\n",
    "#The following test should pass:\n",
    "#node = Node('root', Node('left', Node('left.left')), Node('right'))\n",
    "#assert deserialize(serialize(node)).left.left.val == 'left.left'\n",
    "\n",
    "class Node:\n",
    "    def __init__(self, val, left=None, right=None):\n",
    "        self.val = val\n",
    "        self.left = left\n",
    "        self.right = right\n",
    "        \n",
    "def serialize(node):\n",
    "    str=\"\"\n",
    "    if(isinstance(node,Node)):\n",
    "        val = node.val\n",
    "        str = str + val\n",
    "        left = node.left\n",
    "        if(left == None):\n",
    "        right = node.right\n",
    "    else:\n",
    "        return \"\"\n",
    "    "
   ]
  },
  {
   "cell_type": "markdown",
   "metadata": {},
   "source": [
    "_#Remark: Went round and round....Lost patience dammit_"
   ]
  },
  {
   "cell_type": "markdown",
   "metadata": {},
   "source": [
    "__Solutions from the makers:__"
   ]
  },
  {
   "cell_type": "code",
   "execution_count": 7,
   "metadata": {},
   "outputs": [
    {
     "name": "stdout",
     "output_type": "stream",
     "text": [
      "Writing dcp3_2.py\n"
     ]
    }
   ],
   "source": [
    "%%writefile dcp3_2.py\n",
    "#Daily Coding Problem #3 [Medium]\n",
    "#Given the root to a binary tree, implement serialize(root), which serializes the tree into a string,\n",
    "#and deserialize(s), which deserializes the string back into the tree.\n",
    "#For example, given the following Node class\n",
    "#class Node:\n",
    "#    def __init__(self, val, left=None, right=None):\n",
    "#        self.val = val\n",
    "#        self.left = left\n",
    "#        self.right = right\n",
    "#\n",
    "#The following test should pass:\n",
    "#node = Node('root', Node('left', Node('left.left')), Node('right'))\n",
    "#assert deserialize(serialize(node)).left.left.val == 'left.left'\n",
    "\n",
    "class Node:\n",
    "    def __init__(self, val, left=None, right=None):\n",
    "        self.val = val\n",
    "        self.left = left\n",
    "        self.right = right\n",
    "        \n",
    "def serialize(root):\n",
    "    if root is None:\n",
    "        return '#'\n",
    "    else:\n",
    "        return '{} {} {}'.format(root.val,serialize(root.left),serialize(root.right))\n",
    "\n",
    "def deserialize(data):\n",
    "    def helper():\n",
    "        val = next(vals)\n",
    "        if val == '#':\n",
    "            return None\n",
    "        node = Node(val)\n",
    "        node.left = helper()\n",
    "        node.right = helper()\n",
    "        return node\n",
    "    vals = iter(data.split())\n",
    "    return helper()\n",
    "\n",
    "node = Node('root', Node('left', Node('left.left')), Node('right'))\n",
    "#assert (deserialize(serialize(node)).left.left.val) == 'left.left'\n",
    "print(deserialize(serialize(node)).left.left.val)"
   ]
  },
  {
   "cell_type": "markdown",
   "metadata": {},
   "source": [
    "_#Remark: Did not devote time today.... Will do better tomorrow!_<br>\n",
    "_#Remark: Also brush up your fundamentals! Did not recognize iter() and next() above_<br>"
   ]
  },
  {
   "cell_type": "code",
   "execution_count": null,
   "metadata": {},
   "outputs": [],
   "source": []
  }
 ],
 "metadata": {
  "kernelspec": {
   "display_name": "Python 3",
   "language": "python",
   "name": "python3"
  },
  "language_info": {
   "codemirror_mode": {
    "name": "ipython",
    "version": 3
   },
   "file_extension": ".py",
   "mimetype": "text/x-python",
   "name": "python",
   "nbconvert_exporter": "python",
   "pygments_lexer": "ipython3",
   "version": "3.7.3"
  }
 },
 "nbformat": 4,
 "nbformat_minor": 2
}
