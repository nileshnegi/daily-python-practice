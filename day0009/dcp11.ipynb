{
 "cells": [
  {
   "cell_type": "markdown",
   "metadata": {},
   "source": [
    "**Daily Coding Problem \\#11**"
   ]
  },
  {
   "cell_type": "markdown",
   "metadata": {},
   "source": [
    "Implement an autocomplete system. That is, given a query string 's' and a set of all possible query strings, return all strings in the set that have 's' as a prefix.<br>\n",
    "For example, given the query string de and the set of strings `[dog, deer, deal]` return `[deer, deal]`."
   ]
  },
  {
   "cell_type": "code",
   "execution_count": 5,
   "metadata": {},
   "outputs": [
    {
     "name": "stdout",
     "output_type": "stream",
     "text": [
      "Writing dcp11_1.py\n"
     ]
    }
   ],
   "source": [
    "%%writefile dcp11_1.py\n",
    "#Daily Coding Problem #11 [Medium]\n",
    "#Implement an autocomplete system. That is, given a query string s\n",
    "#and a set of all possible query strings, return all strings in the set that have s as a prefix.\n",
    "#For example, given the query string de and the set of strings [dog, deer, deal], return [deer, deal].\n",
    "def find_strings(lst, prefix):\n",
    "    num = len(prefix)\n",
    "    res = set()\n",
    "    for i in lst:\n",
    "        if num > len(i):\n",
    "            continue\n",
    "        else:\n",
    "            if(i[0:num] == prefix):\n",
    "                res.add(i)\n",
    "    \n",
    "    return list(res)\n",
    "\n",
    "print(find_strings([\"dog\", \"deer\", \"deal\"],\"de\"))"
   ]
  },
  {
   "cell_type": "markdown",
   "metadata": {},
   "source": [
    "__Solutions from the makers:__<br>\n",
    "_They suggested using a more efficient data structure...._"
   ]
  },
  {
   "cell_type": "code",
   "execution_count": 6,
   "metadata": {},
   "outputs": [
    {
     "name": "stdout",
     "output_type": "stream",
     "text": [
      "['deer', 'deal']\n"
     ]
    }
   ],
   "source": [
    "#%%writefile dcp10_2.py\n",
    "#Daily Coding Problem #11 [Medium]\n",
    "#Implement an autocomplete system. That is, given a query string s\n",
    "#and a set of all possible query strings, return all strings in the set that have s as a prefix.\n",
    "#For example, given the query string de and the set of strings [dog, deer, deal], return [deer, deal].\n",
    "ENDS_HERE = '__ENDS_HERE'\n",
    "\n",
    "class Trie(object):\n",
    "    def __init__(self):\n",
    "        self._trie = {}\n",
    "\n",
    "    def insert(self, text):\n",
    "        trie = self._trie\n",
    "        for char in text:\n",
    "            if char not in trie:\n",
    "                trie[char] = {}\n",
    "            trie = trie[char]\n",
    "        trie[ENDS_HERE] = True\n",
    "\n",
    "    def elements(self, prefix):\n",
    "        d = self._trie\n",
    "        for char in prefix:\n",
    "            if char in d:\n",
    "                d = d[char]\n",
    "            else:\n",
    "                return []\n",
    "        return self._elements(d)\n",
    "\n",
    "    def _elements(self, d):\n",
    "        result = []\n",
    "        for c, v in d.items():\n",
    "            if c == ENDS_HERE:\n",
    "                subresult = ['']\n",
    "            else:\n",
    "                subresult = [c + s for s in self._elements(v)]\n",
    "            result.extend(subresult)\n",
    "        return result\n",
    "\n",
    "trie = Trie()\n",
    "words = [\"dog\", \"deer\", \"deal\"]\n",
    "for word in words:\n",
    "    trie.insert(word)\n",
    "\n",
    "def autocomplete(s):\n",
    "    suffixes = trie.elements(s)\n",
    "    return [s + w for w in suffixes]\n",
    "\n",
    "print(autocomplete(\"de\"))"
   ]
  },
  {
   "cell_type": "code",
   "execution_count": null,
   "metadata": {},
   "outputs": [],
   "source": []
  }
 ],
 "metadata": {
  "kernelspec": {
   "display_name": "Python 3",
   "language": "python",
   "name": "python3"
  },
  "language_info": {
   "codemirror_mode": {
    "name": "ipython",
    "version": 3
   },
   "file_extension": ".py",
   "mimetype": "text/x-python",
   "name": "python",
   "nbconvert_exporter": "python",
   "pygments_lexer": "ipython3",
   "version": "3.7.3"
  }
 },
 "nbformat": 4,
 "nbformat_minor": 2
}
