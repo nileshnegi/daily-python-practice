{
 "cells": [
  {
   "cell_type": "markdown",
   "metadata": {},
   "source": [
    "**Daily Coding Problem \\#7**"
   ]
  },
  {
   "cell_type": "markdown",
   "metadata": {},
   "source": [
    "Given the mapping a = 1, b = 2, ... z = 26, and an encoded message, count the number of ways it can be decoded.\n",
    "For example, the message '111' would give 3, since it could be decoded as 'aaa', 'ka', and 'ak'.\n",
    "You can assume that the messages are decodable. For example, '001' is not allowed."
   ]
  },
  {
   "cell_type": "code",
   "execution_count": 23,
   "metadata": {},
   "outputs": [
    {
     "name": "stdout",
     "output_type": "stream",
     "text": [
      "Writing dcp7_1.py\n"
     ]
    }
   ],
   "source": [
    "%%writefile dcp7_1.py\n",
    "#Daily Coding Problem #7 [Medium]\n",
    "#Given the mapping a = 1, b = 2, ... z = 26, and an encoded message, count the number of ways it can be decoded.\n",
    "#For example, the message '111' would give 3, since it could be decoded as 'aaa', 'ka', and 'ak'.\n",
    "#You can assume that the messages are decodable. For example, '001' is not allowed.\n",
    "def num_decode(msg):\n",
    "    count = 1\n",
    "    if(len(msg) > 1):\n",
    "        for i in range(len(msg)-1):\n",
    "            if(int(msg[i]+msg[i+1]) < 27):\n",
    "                count = count + num_decode(msg[i+2:])\n",
    "    \n",
    "    return count\n",
    "                          \n",
    "print(num_decode('12321'))\n",
    "print(num_decode(''))"
   ]
  },
  {
   "cell_type": "markdown",
   "metadata": {},
   "source": [
    "__#Remark: Got this one!__"
   ]
  },
  {
   "cell_type": "markdown",
   "metadata": {},
   "source": [
    "__Solutions from the makers:__<br>\n",
    "Looking at their explanation, I missed out possible inputs where the string starts from 0 or contains 0.<br>\n",
    "Also, I could have replace the for loop with another recursive call<br>"
   ]
  },
  {
   "cell_type": "code",
   "execution_count": 27,
   "metadata": {},
   "outputs": [
    {
     "name": "stdout",
     "output_type": "stream",
     "text": [
      "Writing dcp7_2.py\n"
     ]
    }
   ],
   "source": [
    "%%writefile dcp7_2.py\n",
    "#Daily Coding Problem #7 [Medium]\n",
    "#Given the mapping a = 1, b = 2, ... z = 26, and an encoded message, count the number of ways it can be decoded.\n",
    "#For example, the message '111' would give 3, since it could be decoded as 'aaa', 'ka', and 'ak'.\n",
    "#You can assume that the messages are decodable. For example, '001' is not allowed.\n",
    "def num_encodings(s):\n",
    "    if s.startswith('0'):\n",
    "        return 0\n",
    "    elif len(s) <= 1: # This covers empty string\n",
    "        return 1\n",
    "\n",
    "    total = 0\n",
    "\n",
    "    if int(s[:2]) <= 26:\n",
    "        total += num_encodings(s[2:])\n",
    "\n",
    "    total += num_encodings(s[1:])\n",
    "    return total\n",
    "                          \n",
    "print(num_encodings('12321'))\n",
    "print(num_encodings(''))"
   ]
  },
  {
   "cell_type": "markdown",
   "metadata": {},
   "source": [
    "_#Remark: A more efficient solution_"
   ]
  },
  {
   "cell_type": "code",
   "execution_count": 28,
   "metadata": {},
   "outputs": [
    {
     "name": "stdout",
     "output_type": "stream",
     "text": [
      "Writing dcp7_3.py\n"
     ]
    }
   ],
   "source": [
    "%%writefile dcp7_3.py\n",
    "#Daily Coding Problem #7 [Medium]\n",
    "#Given the mapping a = 1, b = 2, ... z = 26, and an encoded message, count the number of ways it can be decoded.\n",
    "#For example, the message '111' would give 3, since it could be decoded as 'aaa', 'ka', and 'ak'.\n",
    "#You can assume that the messages are decodable. For example, '001' is not allowed.\n",
    "from collections import defaultdict\n",
    "\n",
    "def num_encodings(s):\n",
    "    # On lookup, this hashmap returns a default value of 0 if the key doesn't exist\n",
    "    # cache[i] gives us # of ways to encode the substring s[i:]\n",
    "    cache = defaultdict(int)\n",
    "    cache[len(s)] = 1 # Empty string is 1 valid encoding\n",
    "\n",
    "    for i in reversed(range(len(s))):\n",
    "        if s[i].startswith('0'):\n",
    "            cache[i] = 0\n",
    "        elif i == len(s) - 1:\n",
    "            cache[i] = 1\n",
    "        else:\n",
    "            if int(s[i:i + 2]) <= 26:\n",
    "                cache[i] = cache[i + 2]\n",
    "            cache[i] += cache[i + 1]\n",
    "    return cache[0]\n",
    "\n",
    "print(num_encodings('12321'))\n",
    "print(num_encodings(''))"
   ]
  },
  {
   "cell_type": "code",
   "execution_count": null,
   "metadata": {},
   "outputs": [],
   "source": []
  }
 ],
 "metadata": {
  "kernelspec": {
   "display_name": "Python 3",
   "language": "python",
   "name": "python3"
  },
  "language_info": {
   "codemirror_mode": {
    "name": "ipython",
    "version": 3
   },
   "file_extension": ".py",
   "mimetype": "text/x-python",
   "name": "python",
   "nbconvert_exporter": "python",
   "pygments_lexer": "ipython3",
   "version": "3.6.8"
  }
 },
 "nbformat": 4,
 "nbformat_minor": 2
}
