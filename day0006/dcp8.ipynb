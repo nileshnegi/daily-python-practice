{
 "cells": [
  {
   "cell_type": "markdown",
   "metadata": {},
   "source": [
    "**Daily Coding Problem \\#8**"
   ]
  },
  {
   "cell_type": "markdown",
   "metadata": {},
   "source": [
    "A unival tree (which stands for \"universal value\") is a tree where all nodes under it have the same value.<br>\n",
    "Given the root to a binary tree, count the number of unival subtrees.<br>\n",
    "For example, the following tree has 5 unival subtrees:<br>\n",
    "<pre>\n",
    "   0\n",
    "  / \\\n",
    " 1   0\n",
    "    / \\\n",
    "   1   0\n",
    "  / \\\n",
    " 1   1\n",
    "</pre>"
   ]
  },
  {
   "cell_type": "code",
   "execution_count": 48,
   "metadata": {},
   "outputs": [
    {
     "name": "stdout",
     "output_type": "stream",
     "text": [
      "4\n"
     ]
    }
   ],
   "source": [
    "#%%writefile dcp8_1.py\n",
    "#Daily Coding Problem #8 [Easy]\n",
    "#A unival tree (which stands for \"universal value\") is a tree where all nodes under it have the same value.\n",
    "#Given the root to a binary tree, count the number of unival subtrees.\n",
    "#For example, the following tree has 5 unival subtrees:\n",
    "#   0\n",
    "#  / \\\n",
    "# 1   0\n",
    "#    / \\\n",
    "#   1   0\n",
    "#  / \\\n",
    "# 1   1\n",
    "class Node:\n",
    "    def __init__(self,val,left=None,right=None):\n",
    "        self.val = val\n",
    "        self.left = left\n",
    "        self.right = right\n",
    "        \n",
    "def num_unival_trees(tree):\n",
    "    count = 0\n",
    "    if(tree == None):\n",
    "        return 0\n",
    "    if(tree.left == None and tree.right == None):\n",
    "        return 1\n",
    "    if(tree.left.val == tree.right.val):\n",
    "        count = count + 1\n",
    "    return num_unival_trees(tree.left) + num_unival_trees(tree.right)\n",
    "                          \n",
    "print(num_unival_trees(Node(0,Node(1),Node(0,Node(1,Node(1),Node(1)),Node(1)))))"
   ]
  },
  {
   "cell_type": "markdown",
   "metadata": {},
   "source": [
    "__#Remark: Got convoluted!__"
   ]
  },
  {
   "cell_type": "markdown",
   "metadata": {},
   "source": [
    "__Solutions from the makers:__"
   ]
  },
  {
   "cell_type": "code",
   "execution_count": 38,
   "metadata": {},
   "outputs": [
    {
     "name": "stdout",
     "output_type": "stream",
     "text": [
      "5\n",
      "6\n"
     ]
    }
   ],
   "source": [
    "#%%writefile dcp8_2.py\n",
    "#Daily Coding Problem #8 [Easy]\n",
    "#A unival tree (which stands for \"universal value\") is a tree where all nodes under it have the same value.\n",
    "#Given the root to a binary tree, count the number of unival subtrees.\n",
    "#For example, the following tree has 5 unival subtrees:\n",
    "#   0\n",
    "#  / \\\n",
    "# 1   0\n",
    "#    / \\\n",
    "#   1   0\n",
    "#  / \\\n",
    "# 1   1\n",
    "class Node:\n",
    "    def __init__(self,value,left=None,right=None):\n",
    "        self.value = value\n",
    "        self.left = left\n",
    "        self.right = right\n",
    "        \n",
    "def is_unival(root):\n",
    "    return unival_helper(root, root.value)\n",
    "\n",
    "def unival_helper(root, value):\n",
    "    if root is None:\n",
    "        return True\n",
    "    if root.value == value:\n",
    "        return unival_helper(root.left, value) and unival_helper(root.right, value)\n",
    "    return False\n",
    "\n",
    "def count_unival_subtrees(root):\n",
    "    if root is None:\n",
    "        return 0\n",
    "    left = count_unival_subtrees(root.left)\n",
    "    right = count_unival_subtrees(root.right)\n",
    "    return 1 + left + right if is_unival(root) else left + right\n",
    "\n",
    "print(count_unival_subtrees(Node(0,Node(1),Node(0,Node(1,Node(1),Node(1)),Node(0)))))\n",
    "print(count_unival_subtrees(Node(0,Node(1),Node(1,Node(1,Node(1),Node(1)),Node(1)))))"
   ]
  },
  {
   "cell_type": "markdown",
   "metadata": {},
   "source": [
    "_#Remark: A more efficient solution_"
   ]
  },
  {
   "cell_type": "code",
   "execution_count": 28,
   "metadata": {},
   "outputs": [
    {
     "name": "stdout",
     "output_type": "stream",
     "text": [
      "Writing dcp7_3.py\n"
     ]
    }
   ],
   "source": [
    "%%writefile dcp7_3.py\n",
    "#Daily Coding Problem #7 [Medium]\n",
    "#Given the mapping a = 1, b = 2, ... z = 26, and an encoded message, count the number of ways it can be decoded.\n",
    "#For example, the message '111' would give 3, since it could be decoded as 'aaa', 'ka', and 'ak'.\n",
    "#You can assume that the messages are decodable. For example, '001' is not allowed.\n",
    "from collections import defaultdict\n",
    "\n",
    "def num_encodings(s):\n",
    "    # On lookup, this hashmap returns a default value of 0 if the key doesn't exist\n",
    "    # cache[i] gives us # of ways to encode the substring s[i:]\n",
    "    cache = defaultdict(int)\n",
    "    cache[len(s)] = 1 # Empty string is 1 valid encoding\n",
    "\n",
    "    for i in reversed(range(len(s))):\n",
    "        if s[i].startswith('0'):\n",
    "            cache[i] = 0\n",
    "        elif i == len(s) - 1:\n",
    "            cache[i] = 1\n",
    "        else:\n",
    "            if int(s[i:i + 2]) <= 26:\n",
    "                cache[i] = cache[i + 2]\n",
    "            cache[i] += cache[i + 1]\n",
    "    return cache[0]\n",
    "\n",
    "print(num_encodings('12321'))\n",
    "print(num_encodings(''))"
   ]
  },
  {
   "cell_type": "code",
   "execution_count": null,
   "metadata": {},
   "outputs": [],
   "source": []
  }
 ],
 "metadata": {
  "kernelspec": {
   "display_name": "Python 3",
   "language": "python",
   "name": "python3"
  },
  "language_info": {
   "codemirror_mode": {
    "name": "ipython",
    "version": 3
   },
   "file_extension": ".py",
   "mimetype": "text/x-python",
   "name": "python",
   "nbconvert_exporter": "python",
   "pygments_lexer": "ipython3",
   "version": "3.6.8"
  }
 },
 "nbformat": 4,
 "nbformat_minor": 2
}
