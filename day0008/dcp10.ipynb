{
 "cells": [
  {
   "cell_type": "markdown",
   "metadata": {},
   "source": [
    "**Daily Coding Problem \\#10**"
   ]
  },
  {
   "cell_type": "markdown",
   "metadata": {},
   "source": [
    "Implement a job scheduler which takes in a function f and an integer n, and calls f after n milliseconds."
   ]
  },
  {
   "cell_type": "code",
   "execution_count": null,
   "metadata": {},
   "outputs": [],
   "source": [
    "%%writefile dcp10_1.py\n",
    "#Daily Coding Problem #10 [Medium]\n",
    "#Implement a job scheduler which takes in a function f and an integer n, and calls f after n milliseconds.\n",
    "import time\n",
    "def schedule_job(f,n):\n",
    "    time.sleep(0.001*n)\n",
    "    f()\n",
    "\n",
    "def sum_num(a,b):\n",
    "    print(a+b)\n",
    "    \n",
    "schedule_job(sum_num(10,20),10000)"
   ]
  },
  {
   "cell_type": "markdown",
   "metadata": {},
   "source": [
    "#Remark: This solution calls function and then runs sleep."
   ]
  },
  {
   "cell_type": "markdown",
   "metadata": {},
   "source": [
    "__Solutions from the makers:__"
   ]
  },
  {
   "cell_type": "code",
   "execution_count": 6,
   "metadata": {},
   "outputs": [
    {
     "name": "stdout",
     "output_type": "stream",
     "text": [
      "Writing dcp10_2.py\n"
     ]
    },
    {
     "name": "stderr",
     "output_type": "stream",
     "text": [
      "Exception in thread Thread-7:\n",
      "Traceback (most recent call last):\n",
      "  File \"/home/nilesh/anaconda3/lib/python3.7/threading.py\", line 917, in _bootstrap_inner\n",
      "    self.run()\n",
      "  File \"/home/nilesh/anaconda3/lib/python3.7/threading.py\", line 865, in run\n",
      "    self._target(*self._args, **self._kwargs)\n",
      "  File \"<ipython-input-5-b5b7ff5f952b>\", line 14, in sleep_then_call\n",
      "    f()\n",
      "TypeError: 'NoneType' object is not callable\n",
      "\n"
     ]
    }
   ],
   "source": [
    "%%writefile dcp10_2.py\n",
    "#Daily Coding Problem #10 [Medium]\n",
    "#Implement a job scheduler which takes in a function f and an integer n, and calls f after n milliseconds.\n",
    "import threading\n",
    "from time import sleep\n",
    "\n",
    "class Scheduler:\n",
    "    def __init__(self):\n",
    "        pass\n",
    "    \n",
    "    def delay(self,f,n):\n",
    "        def sleep_then_call(n):\n",
    "            sleep(n/1000)\n",
    "            f()\n",
    "        t = threading.Thread(target=sleep_then_call, args=(n,))\n",
    "        t.start()\n",
    "\n",
    "def sum_num(a,b):\n",
    "    print(a+b)\n",
    "\n",
    "schd = Scheduler()\n",
    "schd.delay(sum_num(10,20),10000)"
   ]
  },
  {
   "cell_type": "code",
   "execution_count": null,
   "metadata": {},
   "outputs": [],
   "source": [
    "#%%writefile dcp9_3.py\n",
    "#Daily Coding Problem #9 [Hard]\n",
    "#Given a list of integers, write a function that returns the largest sum of non-adjacent numbers.\n",
    "#Numbers can be 0 or negative.\n",
    "#For example, [2, 4, 6, 2, 5] should return 13, since we pick 2, 6, and 5.\n",
    "#[5, 1, 1, 5] should return 10, since we pick 5 and 5.\n",
    "#Follow-up: Can you do this in O(N) time and constant space?\n",
    "def largest_non_adjacent(arr):\n",
    "    if len(arr) <= 2:\n",
    "        return max(0, max(arr))\n",
    "\n",
    "    cache = [0 for i in arr]\n",
    "    cache[0] = max(0, arr[0])\n",
    "    cache[1] = max(cache[0], arr[1])\n",
    "\n",
    "    for i in range(2, len(arr)):\n",
    "        num = arr[i]\n",
    "        cache[i] = max(num + cache[i - 2], cache[i - 1])\n",
    "    return cache[-1]\n",
    "\n",
    "print(largest_non_adjacent([2,4,6,2,5]))\n",
    "print(largest_non_adjacent([9,4,6,9,1,2]))"
   ]
  },
  {
   "cell_type": "code",
   "execution_count": null,
   "metadata": {},
   "outputs": [],
   "source": []
  }
 ],
 "metadata": {
  "kernelspec": {
   "display_name": "Python 3",
   "language": "python",
   "name": "python3"
  },
  "language_info": {
   "codemirror_mode": {
    "name": "ipython",
    "version": 3
   },
   "file_extension": ".py",
   "mimetype": "text/x-python",
   "name": "python",
   "nbconvert_exporter": "python",
   "pygments_lexer": "ipython3",
   "version": "3.7.3"
  }
 },
 "nbformat": 4,
 "nbformat_minor": 2
}
