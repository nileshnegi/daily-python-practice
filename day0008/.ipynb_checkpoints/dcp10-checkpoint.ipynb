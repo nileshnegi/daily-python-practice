{
 "cells": [
  {
   "cell_type": "markdown",
   "metadata": {},
   "source": [
    "**Daily Coding Problem \\#10**"
   ]
  },
  {
   "cell_type": "markdown",
   "metadata": {},
   "source": [
    "Implement a job scheduler which takes in a function f and an integer n, and calls f after n milliseconds."
   ]
  },
  {
   "cell_type": "code",
   "execution_count": 1,
   "metadata": {},
   "outputs": [],
   "source": [
    "#%%writefile dcp10_1.py\n",
    "#Daily Coding Problem #10 [Medium]\n",
    "#Implement a job scheduler which takes in a function f and an integer n, and calls f after n milliseconds.\n",
    "import time\n",
    "def schedule_job(f,n):\n",
    "    time.sleep(n/1000)"
   ]
  },
  {
   "cell_type": "markdown",
   "metadata": {},
   "source": [
    "__#Remark__: Was thinking of using binary tree search for max in a pair and comparing the max values in two adjacent pairs<br>\n",
    "But could not formalize my thoughts into code :-("
   ]
  },
  {
   "cell_type": "markdown",
   "metadata": {},
   "source": [
    "__Solutions from the makers:__<br>\n",
    "Looking at their explanation, I missed out possible inputs where the string starts from 0 or contains 0.<br>\n",
    "Also, I could have replaced the for loop with another recursive call<br>"
   ]
  },
  {
   "cell_type": "code",
   "execution_count": 4,
   "metadata": {},
   "outputs": [
    {
     "name": "stdout",
     "output_type": "stream",
     "text": [
      "Writing dcp9_2.py\n"
     ]
    }
   ],
   "source": [
    "%%writefile dcp9_2.py\n",
    "#Daily Coding Problem #9 [Hard]\n",
    "#Given a list of integers, write a function that returns the largest sum of non-adjacent numbers.\n",
    "#Numbers can be 0 or negative.\n",
    "#For example, [2, 4, 6, 2, 5] should return 13, since we pick 2, 6, and 5.\n",
    "#[5, 1, 1, 5] should return 10, since we pick 5 and 5.\n",
    "#Follow-up: Can you do this in O(N) time and constant space?\n",
    "def largest_non_adjacent(arr):\n",
    "    if not arr:\n",
    "        return 0\n",
    "\n",
    "    return max(\n",
    "            largest_non_adjacent(arr[1:]),\n",
    "            arr[0] + largest_non_adjacent(arr[2:]))\n",
    "                          \n",
    "print(largest_non_adjacent([2,4,6,2,5]))\n",
    "print(largest_non_adjacent([9,4,6,9,1,2]))"
   ]
  },
  {
   "cell_type": "markdown",
   "metadata": {},
   "source": [
    "This solution above is $O(2^N)$ so a more efficeint solution is shown below...."
   ]
  },
  {
   "cell_type": "code",
   "execution_count": 6,
   "metadata": {},
   "outputs": [
    {
     "name": "stdout",
     "output_type": "stream",
     "text": [
      "Writing dcp9_3.py\n"
     ]
    }
   ],
   "source": [
    "%%writefile dcp9_3.py\n",
    "#Daily Coding Problem #9 [Hard]\n",
    "#Given a list of integers, write a function that returns the largest sum of non-adjacent numbers.\n",
    "#Numbers can be 0 or negative.\n",
    "#For example, [2, 4, 6, 2, 5] should return 13, since we pick 2, 6, and 5.\n",
    "#[5, 1, 1, 5] should return 10, since we pick 5 and 5.\n",
    "#Follow-up: Can you do this in O(N) time and constant space?\n",
    "def largest_non_adjacent(arr):\n",
    "    if len(arr) <= 2:\n",
    "        return max(0, max(arr))\n",
    "\n",
    "    cache = [0 for i in arr]\n",
    "    cache[0] = max(0, arr[0])\n",
    "    cache[1] = max(cache[0], arr[1])\n",
    "\n",
    "    for i in range(2, len(arr)):\n",
    "        num = arr[i]\n",
    "        cache[i] = max(num + cache[i - 2], cache[i - 1])\n",
    "    return cache[-1]\n",
    "\n",
    "print(largest_non_adjacent([2,4,6,2,5]))\n",
    "print(largest_non_adjacent([9,4,6,9,1,2]))"
   ]
  },
  {
   "cell_type": "markdown",
   "metadata": {},
   "source": [
    "This solution is $O(N)$ in time and $O(N)$ in space. But the cache can be replaced with variables since only the last two elements are used for comparison.<br>"
   ]
  },
  {
   "cell_type": "code",
   "execution_count": 10,
   "metadata": {},
   "outputs": [
    {
     "name": "stdout",
     "output_type": "stream",
     "text": [
      "Writing dcp9_4.py\n"
     ]
    }
   ],
   "source": [
    "%%writefile dcp9_4.py\n",
    "#Daily Coding Problem #9 [Hard]\n",
    "#Given a list of integers, write a function that returns the largest sum of non-adjacent numbers.\n",
    "#Numbers can be 0 or negative.\n",
    "#For example, [2, 4, 6, 2, 5] should return 13, since we pick 2, 6, and 5.\n",
    "#[5, 1, 1, 5] should return 10, since we pick 5 and 5.\n",
    "#Follow-up: Can you do this in O(N) time and constant space?\n",
    "def largest_non_adjacent(arr):\n",
    "    if len(arr) <= 2:\n",
    "        return max(0, max(arr))\n",
    "\n",
    "    max_excluding_last = max(0, arr[0])\n",
    "    max_including_last = max(max_excluding_last, arr[1])\n",
    "\n",
    "    for num in arr[2:]:\n",
    "        prev_max_including_last = max_including_last\n",
    "        \n",
    "        max_including_last = max(max_including_last, max_excluding_last+num)\n",
    "        max_excluding_last = prev_max_including_last\n",
    "        \n",
    "    return max(max_including_last, max_excluding_last)\n",
    "\n",
    "print(largest_non_adjacent([2,4,6,2,5]))\n",
    "print(largest_non_adjacent([9,4,6,9,1,2]))"
   ]
  },
  {
   "cell_type": "code",
   "execution_count": null,
   "metadata": {},
   "outputs": [],
   "source": []
  }
 ],
 "metadata": {
  "kernelspec": {
   "display_name": "Python 3",
   "language": "python",
   "name": "python3"
  },
  "language_info": {
   "codemirror_mode": {
    "name": "ipython",
    "version": 3
   },
   "file_extension": ".py",
   "mimetype": "text/x-python",
   "name": "python",
   "nbconvert_exporter": "python",
   "pygments_lexer": "ipython3",
   "version": "3.7.3"
  }
 },
 "nbformat": 4,
 "nbformat_minor": 2
}
