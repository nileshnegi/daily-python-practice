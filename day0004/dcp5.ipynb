{
 "cells": [
  {
   "cell_type": "markdown",
   "metadata": {},
   "source": [
    "**Daily Coding Problem \\#5**"
   ]
  },
  {
   "cell_type": "markdown",
   "metadata": {},
   "source": [
    "cons(a, b) constructs a pair, and car(pair) and cdr(pair) returns the first and last element of that pair.<br>\n",
    "For example, car(cons(3, 4)) returns 3, and cdr(cons(3, 4)) returns 4.<br>\n",
    "<br>\n",
    "Given this implementation of cons:<br>\n",
    "<pre>\n",
    "def cons(a, b):\n",
    "    def pair(f):\n",
    "        return f(a, b)\n",
    "    return pair\n",
    "</pre>\n",
    "Implement car and cdr.<br>"
   ]
  },
  {
   "cell_type": "code",
   "execution_count": 19,
   "metadata": {},
   "outputs": [
    {
     "name": "stdout",
     "output_type": "stream",
     "text": [
      "Writing dcp5_1.py\n"
     ]
    }
   ],
   "source": [
    "%%writefile dcp5_1.py\n",
    "#Daily Coding Problem #5 [Medium]\n",
    "#cons(a, b) constructs a pair, and car(pair) and cdr(pair) returns the first and last element of that pair.\n",
    "#For example, car(cons(3, 4)) returns 3, and cdr(cons(3, 4)) returns 4.\n",
    "#Given this implementation of cons:\n",
    "#def cons(a, b):\n",
    "#    def pair(f):\n",
    "#        return f(a, b)\n",
    "#    return pair\n",
    "#Implement car and cdr.\n",
    "\n",
    "def cons(a, b):\n",
    "    def pair(f):\n",
    "        return f(a, b)\n",
    "    return pair\n",
    "\n",
    "def car(pair):\n",
    "    return None\n",
    "\n",
    "def cdr(pair):\n",
    "    return None\n",
    "\n",
    "fr = cons(3,4)\n",
    "print(fr)"
   ]
  },
  {
   "cell_type": "markdown",
   "metadata": {},
   "source": [
    "__#Remark: What is this!?__"
   ]
  },
  {
   "cell_type": "markdown",
   "metadata": {},
   "source": [
    "__Solutions from the makers:__"
   ]
  },
  {
   "cell_type": "code",
   "execution_count": 21,
   "metadata": {},
   "outputs": [
    {
     "name": "stdout",
     "output_type": "stream",
     "text": [
      "Writing dcp5_2.py\n"
     ]
    }
   ],
   "source": [
    "%%writefile dcp5_2.py\n",
    "#Daily Coding Problem #5 [Medium]\n",
    "#cons(a, b) constructs a pair, and car(pair) and cdr(pair) returns the first and last element of that pair.\n",
    "#For example, car(cons(3, 4)) returns 3, and cdr(cons(3, 4)) returns 4.\n",
    "#Given this implementation of cons:\n",
    "#def cons(a, b):\n",
    "#    def pair(f):\n",
    "#        return f(a, b)\n",
    "#    return pair\n",
    "#Implement car and cdr.\n",
    "\n",
    "def cons(a, b):\n",
    "    def pair(f):\n",
    "        return f(a, b)\n",
    "    return pair\n",
    "\n",
    "def car(pair):\n",
    "    return pair(lambda a,b: a)\n",
    "\n",
    "def cdr(pair):\n",
    "    return pair(lambda a,b: b)\n",
    "\n",
    "print(car(cons(3,4)))\n",
    "print(cdr(cons(3,4)))"
   ]
  },
  {
   "cell_type": "markdown",
   "metadata": {},
   "source": [
    "This solution is based on closures in Python.<br>\n",
    "Never heard of it.... Reading....<br>"
   ]
  }
 ],
 "metadata": {
  "kernelspec": {
   "display_name": "Python 3",
   "language": "python",
   "name": "python3"
  },
  "language_info": {
   "codemirror_mode": {
    "name": "ipython",
    "version": 3
   },
   "file_extension": ".py",
   "mimetype": "text/x-python",
   "name": "python",
   "nbconvert_exporter": "python",
   "pygments_lexer": "ipython3",
   "version": "3.6.8"
  }
 },
 "nbformat": 4,
 "nbformat_minor": 2
}
