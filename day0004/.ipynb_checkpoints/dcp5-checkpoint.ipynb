{
 "cells": [
  {
   "cell_type": "markdown",
   "metadata": {},
   "source": [
    "**Daily Coding Problem \\#5**"
   ]
  },
  {
   "cell_type": "markdown",
   "metadata": {},
   "source": [
    "cons(a, b) constructs a pair, and car(pair) and cdr(pair) returns the first and last element of that pair.<br>\n",
    "For example, car(cons(3, 4)) returns 3, and cdr(cons(3, 4)) returns 4.<br>\n",
    "<br>\n",
    "Given this implementation of cons:<br>\n",
    "<pre>\n",
    "def cons(a, b):\n",
    "    def pair(f):\n",
    "        return f(a, b)\n",
    "    return pair\n",
    "</pre>\n",
    "Implement car and cdr.<br>"
   ]
  },
  {
   "cell_type": "code",
   "execution_count": 4,
   "metadata": {},
   "outputs": [
    {
     "name": "stdout",
     "output_type": "stream",
     "text": [
      "Writing dcp4_1.py\n"
     ]
    }
   ],
   "source": [
    "#%%writefile dcp5_1.py\n",
    "#Daily Coding Problem #4 [Hard]\n",
    "#cons(a, b) constructs a pair, and car(pair) and cdr(pair) returns the first and last element of that pair.\n",
    "#For example, car(cons(3, 4)) returns 3, and cdr(cons(3, 4)) returns 4.\n",
    "#Given this implementation of cons:\n",
    "#def cons(a, b):\n",
    "#    def pair(f):\n",
    "#        return f(a, b)\n",
    "#    return pair\n",
    "#Implement car and cdr.\n",
    "\n",
    "def find_missing(lst):\n",
    "    lst.sort()\n",
    "    i = 1\n",
    "    while(True):\n",
    "        try:\n",
    "            ind = lst.index(i)\n",
    "        except ValueError:\n",
    "            return i\n",
    "        else:\n",
    "            i = i+1\n",
    "\n",
    "print(find_missing([3, 4, -1, 1]))\n",
    "print(find_missing([1, 2, 0]))"
   ]
  },
  {
   "cell_type": "markdown",
   "metadata": {},
   "source": [
    "_#Remark: Seemed pretty easy as I could sort the array using inbuilt python function and use a list operation to find the necessary integer_<br>\n",
    "__#Remark: But sorting is not in linear time! So re-trying__"
   ]
  },
  {
   "cell_type": "code",
   "execution_count": 6,
   "metadata": {},
   "outputs": [
    {
     "name": "stdout",
     "output_type": "stream",
     "text": [
      "Writing dcp4_2.py\n"
     ]
    }
   ],
   "source": [
    "%%writefile dcp4_2.py\n",
    "#Daily Coding Problem #4 [Hard]\n",
    "#Given an array of integers, find the first missing positive integer in linear time and constant space.\n",
    "#In other words, find the lowest positive integer that does not exist in the array.\n",
    "#The array can contain duplicates and negative numbers as well.\n",
    "#For example, the input [3, 4, -1, 1] should give 2. The input [1, 2, 0] should give 3.\n",
    "#You can modify the input array in-place.\n",
    "\n",
    "def find_missing(lst):\n",
    "    i = 1\n",
    "    while(True):\n",
    "        try:\n",
    "            ind = lst.index(i)\n",
    "        except ValueError:\n",
    "            return i\n",
    "        else:\n",
    "            i = i+1\n",
    "\n",
    "print(find_missing([3, 4, -1, 1]))\n",
    "print(find_missing([1, 2, 0]))"
   ]
  },
  {
   "cell_type": "markdown",
   "metadata": {},
   "source": [
    "_#Remark: Actually sorting is not nedded if I use the index operation of python lists#_<br>\n",
    "_#Remark: But is it $O(N)$?_"
   ]
  },
  {
   "cell_type": "markdown",
   "metadata": {},
   "source": [
    "__Solutions from the makers:__"
   ]
  },
  {
   "cell_type": "code",
   "execution_count": 11,
   "metadata": {},
   "outputs": [
    {
     "name": "stdout",
     "output_type": "stream",
     "text": [
      "Overwriting dcp4_3.py\n"
     ]
    }
   ],
   "source": [
    "%%writefile dcp4_3.py\n",
    "#Daily Coding Problem #4 [Hard]\n",
    "#Given an array of integers, find the first missing positive integer in linear time and constant space.\n",
    "#In other words, find the lowest positive integer that does not exist in the array.\n",
    "#The array can contain duplicates and negative numbers as well.\n",
    "#For example, the input [3, 4, -1, 1] should give 2. The input [1, 2, 0] should give 3.\n",
    "#You can modify the input array in-place.\n",
    "def first_missing_positive(nums):\n",
    "    if not nums:\n",
    "        return 1\n",
    "    for i, num in enumerate(nums):\n",
    "        while i + 1 != nums[i] and 0 < nums[i] <= len(nums):\n",
    "            v = nums[i]\n",
    "            nums[i], nums[v - 1] = nums[v - 1], nums[i]\n",
    "            if nums[i] == nums[v - 1]:\n",
    "                break\n",
    "    #print(nums)\n",
    "    for i, num in enumerate(nums, 1):\n",
    "        if num != i:\n",
    "            return i\n",
    "    return len(nums) + 1\n",
    "\n",
    "print(first_missing_positive([3, 4, -1, 1]))\n",
    "print(first_missing_positive([1, 2, 0]))"
   ]
  },
  {
   "cell_type": "markdown",
   "metadata": {},
   "source": [
    "One solution from the makers, where they modify the array in-place.<br>\n",
    "They swap elements (limited to positive integers in the given array) such that the final re-ordered array contains these elements at indices equal to their value. So [3, 4, -1, 1] gets re-ordered to [1, -1, 3, 4].<br>\n",
    "The answer would be the element not matching its index in this final array, or if all match, the (length of array + 1)<br>"
   ]
  },
  {
   "cell_type": "code",
   "execution_count": 14,
   "metadata": {},
   "outputs": [
    {
     "name": "stdout",
     "output_type": "stream",
     "text": [
      "Overwriting dcp4_4.py\n"
     ]
    }
   ],
   "source": [
    "%%writefile dcp4_4.py\n",
    "#Daily Coding Problem #4 [Hard]\n",
    "#Given an array of integers, find the first missing positive integer in linear time and constant space.\n",
    "#In other words, find the lowest positive integer that does not exist in the array.\n",
    "#The array can contain duplicates and negative numbers as well.\n",
    "#For example, the input [3, 4, -1, 1] should give 2. The input [1, 2, 0] should give 3.\n",
    "#You can modify the input array in-place.\n",
    "def first_missing_positive(nums):\n",
    "    s = set(nums)\n",
    "    i = 1\n",
    "    while i in s:\n",
    "        i += 1\n",
    "    return i\n",
    "\n",
    "print(first_missing_positive([3, 4, -1, 1]))\n",
    "print(first_missing_positive([1, 2, 0]))"
   ]
  },
  {
   "cell_type": "markdown",
   "metadata": {},
   "source": [
    "Another solution is to utilize the in-built set function and use a counter<br>"
   ]
  },
  {
   "cell_type": "markdown",
   "metadata": {},
   "source": [
    "__#Remark: Am unsure if my solution which utilizes the index function of lists qualifies__"
   ]
  }
 ],
 "metadata": {
  "kernelspec": {
   "display_name": "Python 3",
   "language": "python",
   "name": "python3"
  },
  "language_info": {
   "codemirror_mode": {
    "name": "ipython",
    "version": 3
   },
   "file_extension": ".py",
   "mimetype": "text/x-python",
   "name": "python",
   "nbconvert_exporter": "python",
   "pygments_lexer": "ipython3",
   "version": "3.6.8"
  }
 },
 "nbformat": 4,
 "nbformat_minor": 2
}
