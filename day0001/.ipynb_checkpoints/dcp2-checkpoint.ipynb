{
 "cells": [
  {
   "cell_type": "markdown",
   "metadata": {},
   "source": [
    "__Daily Coding Problem #2__"
   ]
  },
  {
   "cell_type": "markdown",
   "metadata": {},
   "source": [
    "Given an array of integers, return a new array such that each element at index i of the new array is the product of all the numbers in the original array except the one at i.<br>\n",
    "For example, if our input was [1, 2, 3, 4, 5], the expected output would be [120, 60, 40, 30, 24]. If our input was [3, 2, 1], the expected output would be [2, 3, 6].<br>\n",
    "\n",
    "_Follow-up: what if you can't use division?_<br>"
   ]
  },
  {
   "cell_type": "markdown",
   "metadata": {},
   "source": [
    "_#Remark: The division hint actually sparked that I can multiply all elements and divide by the element at any particular index to get the new array._"
   ]
  },
  {
   "cell_type": "code",
   "execution_count": 11,
   "metadata": {},
   "outputs": [
    {
     "name": "stdout",
     "output_type": "stream",
     "text": [
      "Writing dcp2_1.py\n"
     ]
    }
   ],
   "source": [
    "%%writefile dcp2_1.py\n",
    "#Daily Coding Problem #2 [Hard]\n",
    "#Given an array of integers, return a new array such that each element at index i of the new array\n",
    "#is the product of all the numbers in the original array except the one at i.\n",
    "#Ex. if our input was [1, 2, 3, 4, 5], the expected output would be [120, 60, 40, 30, 24].\n",
    "#If our input was [3, 2, 1], the expected output would be [2, 3, 6].\n",
    "#Follow-up: what if you can't use division?\n",
    "def product_array(lst):\n",
    "    res = 1\n",
    "    new_lst = []\n",
    "    for i in range(len(lst)):\n",
    "        res = res*lst[i]\n",
    "    \n",
    "    for j in range(len(lst)):\n",
    "        new_lst.append(int(res/lst[j]))\n",
    "    \n",
    "    return new_lst\n",
    "\n",
    "print(product_array([1,2,3,4,5]))\n",
    "print(product_array([3,2,1]))"
   ]
  },
  {
   "cell_type": "markdown",
   "metadata": {},
   "source": [
    "Attempting the follow-up solution...."
   ]
  },
  {
   "cell_type": "markdown",
   "metadata": {},
   "source": [
    "_#Remark: If I am not permitted to use division, the first thought is to iterate through remaining elements and multiply them for every index in the array_"
   ]
  },
  {
   "cell_type": "code",
   "execution_count": 12,
   "metadata": {},
   "outputs": [
    {
     "name": "stdout",
     "output_type": "stream",
     "text": [
      "Writing dcp2_2.py\n"
     ]
    }
   ],
   "source": [
    "%%writefile dcp2_2.py\n",
    "#Daily Coding Problem #2 [Hard]\n",
    "#Given an array of integers, return a new array such that each element at index i of the new array\n",
    "#is the product of all the numbers in the original array except the one at i.\n",
    "#Ex. if our input was [1, 2, 3, 4, 5], the expected output would be [120, 60, 40, 30, 24].\n",
    "#If our input was [3, 2, 1], the expected output would be [2, 3, 6].\n",
    "#Follow-up: what if you can't use division?\n",
    "def product_array_nodiv(lst):\n",
    "    res = 1\n",
    "    new_lst = []\n",
    "    for i in range(len(lst)):    \n",
    "        for j in range(len(lst)):\n",
    "            if j == i:\n",
    "                continue\n",
    "            else:\n",
    "                res = res * lst[j]\n",
    "        \n",
    "        new_lst.append(int(res))\n",
    "        res = 1\n",
    "        \n",
    "    return new_lst\n",
    "\n",
    "print(product_array_nodiv([1,2,3,4,5]))\n",
    "print(product_array_nodiv([3,2,1]))"
   ]
  },
  {
   "cell_type": "markdown",
   "metadata": {},
   "source": [
    "#Remark: The solution above would go for $O(N^2)$ time.... Looks like the makers have a better solution for no-div!"
   ]
  },
  {
   "cell_type": "markdown",
   "metadata": {},
   "source": [
    "__Solution from the makers:__"
   ]
  },
  {
   "cell_type": "code",
   "execution_count": 13,
   "metadata": {},
   "outputs": [
    {
     "name": "stdout",
     "output_type": "stream",
     "text": [
      "Writing dcp2_3.py\n"
     ]
    }
   ],
   "source": [
    "%%writefile dcp2_3.py\n",
    "#Daily Coding Problem #2 [Hard]\n",
    "#Given an array of integers, return a new array such that each element at index i of the new array\n",
    "#is the product of all the numbers in the original array except the one at i.\n",
    "#Ex. if our input was [1, 2, 3, 4, 5], the expected output would be [120, 60, 40, 30, 24].\n",
    "#If our input was [3, 2, 1], the expected output would be [2, 3, 6].\n",
    "#Follow-up: what if you can't use division?\n",
    "def product_array_nodiv_makers(lst):\n",
    "    # Generate preffix products\n",
    "    prefix_products = []\n",
    "    for i in lst:\n",
    "        if prefix_products:\n",
    "            prefix_products.append(prefix_products[-1] * i)\n",
    "        else:\n",
    "            prefix_products.append(i)\n",
    "\n",
    "    # Generate suffix products\n",
    "    suffix_products = []\n",
    "    for j in reversed(lst):\n",
    "        if suffix_products:\n",
    "            suffix_products.append(suffix_products[-1] * j)\n",
    "        else:\n",
    "            suffix_products.append(j)\n",
    "    suffix_products = list(reversed(suffix_products))\n",
    "\n",
    "    # Generate result\n",
    "    new_lst = []\n",
    "    for k in range(len(lst)):\n",
    "        if k == 0:\n",
    "            new_lst.append(suffix_products[k + 1])\n",
    "        elif k == len(lst) - 1:\n",
    "            new_lst.append(prefix_products[k - 1])\n",
    "        else:\n",
    "            new_lst.append(prefix_products[k - 1] * suffix_products[k + 1])\n",
    "    \n",
    "    #print(prefix_products)\n",
    "    #print(suffix_products)\n",
    "    return new_lst\n",
    "\n",
    "print(product_array_nodiv_makers([1,2,3,4,5]))\n",
    "print(product_array_nodiv_makers([3,2,1]))"
   ]
  },
  {
   "cell_type": "markdown",
   "metadata": {},
   "source": [
    "_#Remark: This solution above works in $O(N)$ time and space_"
   ]
  },
  {
   "cell_type": "code",
   "execution_count": null,
   "metadata": {},
   "outputs": [],
   "source": []
  }
 ],
 "metadata": {
  "kernelspec": {
   "display_name": "Python 3",
   "language": "python",
   "name": "python3"
  },
  "language_info": {
   "codemirror_mode": {
    "name": "ipython",
    "version": 3
   },
   "file_extension": ".py",
   "mimetype": "text/x-python",
   "name": "python",
   "nbconvert_exporter": "python",
   "pygments_lexer": "ipython3",
   "version": "3.7.3"
  }
 },
 "nbformat": 4,
 "nbformat_minor": 2
}
