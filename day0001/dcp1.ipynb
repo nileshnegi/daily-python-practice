{
 "cells": [
  {
   "cell_type": "markdown",
   "metadata": {},
   "source": [
    "**Daily Coding Problem \\#1**"
   ]
  },
  {
   "cell_type": "markdown",
   "metadata": {},
   "source": [
    "Given a list of numbers and a number k, return whether any two numbers from the list add up to k.<br>\n",
    "For example, given \\[10, 15, 3, 7\\] and k of 17, return true since 10 + 7 is 17.<br>\n",
    "\n",
    "_**Bonus**: Can you do this in one pass?_"
   ]
  },
  {
   "cell_type": "code",
   "execution_count": 5,
   "metadata": {},
   "outputs": [
    {
     "name": "stdout",
     "output_type": "stream",
     "text": [
      "Writing dcp1_1.py\n"
     ]
    }
   ],
   "source": [
    "%%writefile dcp1_1.py\n",
    "#Daily Coding Problem #1 [Easy]\n",
    "#Given a list of numbers and a number k, return whether any two numbers from the list add up to k\n",
    "#Ex. given [10,15,3,7] and k of 17, return true since 10+7 = 17\n",
    "#Bonus: Can you do this in one pass?\n",
    "\n",
    "def check_sum(l,k):\n",
    "    for i in range(len(l)):\n",
    "        for j in range(i,len(l)):\n",
    "            if(l[i]+l[j] == k):\n",
    "                return True\n",
    "    return False\n",
    "\n",
    "print(check_sum([10,15,3,7],13))"
   ]
  },
  {
   "cell_type": "markdown",
   "metadata": {},
   "source": [
    "Attempting bonus...."
   ]
  },
  {
   "cell_type": "markdown",
   "metadata": {},
   "source": [
    "_#Remark: Lost patience.... Was inkling towards a sorting based solution but didn't see it through...._"
   ]
  },
  {
   "cell_type": "markdown",
   "metadata": {},
   "source": [
    "__Solutions from the makers:__"
   ]
  },
  {
   "cell_type": "code",
   "execution_count": 11,
   "metadata": {},
   "outputs": [
    {
     "name": "stdout",
     "output_type": "stream",
     "text": [
      "Overwriting dcp1_2.py\n"
     ]
    }
   ],
   "source": [
    "%%writefile dcp1_2.py\n",
    "#Daily Coding Problem #1 [Easy]\n",
    "#Given a list of numbers and a number k, return whether any two numbers from the list add up to k\n",
    "#Ex. given [10,15,3,7] and k of 17, return true since 10+7 = 17\n",
    "#Bonus: Can you do this in one pass?\n",
    "##Using set() to create a set of numbers already seen in the list and check whether k-l[i] exists in this set\n",
    "def check_sum_set(l,k):\n",
    "    seen = set()\n",
    "    for i in range(len(l)):\n",
    "        if k-l[i] in seen:\n",
    "            return True\n",
    "        seen.add(l[i])\n",
    "    return False\n",
    "\n",
    "print(check_sum_set([10,15,3,7],10))"
   ]
  },
  {
   "cell_type": "markdown",
   "metadata": {},
   "source": [
    "_I believe the solution above is pretty nifty!_"
   ]
  },
  {
   "cell_type": "markdown",
   "metadata": {},
   "source": [
    "Another solution was to use a sorted list and then perform a binary search for k-l[i]"
   ]
  },
  {
   "cell_type": "code",
   "execution_count": 15,
   "metadata": {},
   "outputs": [
    {
     "name": "stdout",
     "output_type": "stream",
     "text": [
      "Writing dcp1_3.py\n"
     ]
    }
   ],
   "source": [
    "%%writefile dcp1_3.py\n",
    "#Daily Coding Problem #1 [Easy]\n",
    "#Given a list of numbers and a number k, return whether any two numbers from the list add up to k\n",
    "#Ex. given [10,15,3,7] and k of 17, return true since 10+7 = 17\n",
    "#Bonus: Can you do this in one pass?\n",
    "##Using sort() to sort this list and use binary search to look for k-l[i] in this sorted list\n",
    "from bisect import bisect_left\n",
    "def binary_search(l,target):\n",
    "    low = 0\n",
    "    high = len(l)\n",
    "    index = bisect_left(l,target,low,high)\n",
    "    \n",
    "    if ((low <= index < high) and l[index] == target):\n",
    "        return index\n",
    "    return -1\n",
    "\n",
    "def check_sum_sortsearch(l,k):\n",
    "    l.sort()\n",
    "    for i in range(len(l)):\n",
    "        target = k-l[i]\n",
    "        j = binary_search(l,k-l[i])\n",
    "        \n",
    "        if j == -1:\n",
    "            continue\n",
    "        elif j != i:\n",
    "            return True\n",
    "        elif j+1 < len(l) and l[j+1] == target:\n",
    "            return True\n",
    "        elif j-1 >= 0 and l[j+1] == target:\n",
    "            return True\n",
    "        \n",
    "    return False\n",
    "\n",
    "print(check_sum_sortsearch([10,15,3,7],18))"
   ]
  },
  {
   "cell_type": "code",
   "execution_count": null,
   "metadata": {},
   "outputs": [],
   "source": []
  }
 ],
 "metadata": {
  "kernelspec": {
   "display_name": "Python 3",
   "language": "python",
   "name": "python3"
  },
  "language_info": {
   "codemirror_mode": {
    "name": "ipython",
    "version": 3
   },
   "file_extension": ".py",
   "mimetype": "text/x-python",
   "name": "python",
   "nbconvert_exporter": "python",
   "pygments_lexer": "ipython3",
   "version": "3.7.3"
  }
 },
 "nbformat": 4,
 "nbformat_minor": 2
}
