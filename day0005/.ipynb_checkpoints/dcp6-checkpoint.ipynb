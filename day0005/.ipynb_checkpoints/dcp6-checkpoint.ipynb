{
 "cells": [
  {
   "cell_type": "markdown",
   "metadata": {},
   "source": [
    "**Daily Coding Problem \\#6**"
   ]
  },
  {
   "cell_type": "markdown",
   "metadata": {},
   "source": [
    "An XOR linked list is a more memory efficient doubly linked list.<br>\n",
    "Instead of each node holding next and prev fields, it holds a field named both, which is an XOR of the next node and the previous node.<br>\n",
    "Implement an XOR linked list; it has an add(element) which adds the element to the end, and a get(index) which returns the node at index.<br>\n",
    "\n",
    "If using a language that has no pointers (such as Python), you can assume you have access to get_pointer and dereference_pointer functions that converts between nodes and memory addresses.<br>"
   ]
  },
  {
   "cell_type": "code",
   "execution_count": 12,
   "metadata": {},
   "outputs": [
    {
     "name": "stdout",
     "output_type": "stream",
     "text": [
      "4\n",
      "1\n"
     ]
    }
   ],
   "source": [
    "#%%writefile dcp6_1.py\n",
    "#Daily Coding Problem #6 [Hard]\n",
    "#An XOR linked list is a more memory efficient doubly linked list.\n",
    "#Instead of each node holding next and prev fields, it holds a field named both,\n",
    "#which is an XOR of the next node and the previous node.\n",
    "#Implement an XOR linked list; it has an add(element) which adds the element to the end,\n",
    "#and a get(index) which returns the node at index.\n",
    "#If using a language that has no pointers (such as Python), you can assume you have access to\n",
    "#get_pointer and dereference_pointer functions that converts between nodes and memory addresses.\n",
    "\n",
    "a = 1\n",
    "b = 6\n",
    "c = 5\n",
    "print(a ^ c)\n",
    "print(7 ^ b)"
   ]
  },
  {
   "cell_type": "markdown",
   "metadata": {},
   "source": [
    "__#Remark: Blank again :-(__"
   ]
  },
  {
   "cell_type": "markdown",
   "metadata": {},
   "source": [
    "__Solutions from the makers:__"
   ]
  },
  {
   "cell_type": "code",
   "execution_count": 19,
   "metadata": {},
   "outputs": [
    {
     "name": "stdout",
     "output_type": "stream",
     "text": [
      "2\n"
     ]
    }
   ],
   "source": [
    "#%%writefile dcp6_2.py\n",
    "#Daily Coding Problem #6 [Hard]\n",
    "#An XOR linked list is a more memory efficient doubly linked list.\n",
    "#Instead of each node holding next and prev fields, it holds a field named both,\n",
    "#which is an XOR of the next node and the previous node.\n",
    "#Implement an XOR linked list; it has an add(element) which adds the element to the end,\n",
    "#and a get(index) which returns the node at index.\n",
    "#If using a language that has no pointers (such as Python), you can assume you have access to\n",
    "#get_pointer and dereference_pointer functions that converts between nodes and memory addresses.\n",
    "\n",
    "import ctypes\n",
    "\n",
    "# This is hacky. It's a data structure for C, not python.\n",
    "class Node(object):\n",
    "    def __init__(self, val):\n",
    "        self.val = val\n",
    "        self.both = 0\n",
    "\n",
    "class XorLinkedList(object):\n",
    "    def __init__(self):\n",
    "        self.head = self.tail = None\n",
    "        self.__nodes = [] # This is to prevent garbage collection\n",
    "\n",
    "    def add(self, node):\n",
    "        if self.head is None:\n",
    "            self.head = self.tail = node\n",
    "        else:\n",
    "            self.tail.both = id(node) ^ self.tail.both\n",
    "            node.both = id(self.tail)\n",
    "            self.tail = node\n",
    "\n",
    "        # Without this line, Python thinks there is no way to reach nodes between\n",
    "        # head and tail.\n",
    "        self.__nodes.append(node)\n",
    "\n",
    "    def get(self, index):\n",
    "        prev_id = 0\n",
    "        node = self.head\n",
    "        for i in range(index):\n",
    "            next_id = prev_id ^ node.both\n",
    "\n",
    "            if next_id:\n",
    "                prev_id = id(node)\n",
    "                node = _get_obj(next_id)\n",
    "            else:\n",
    "                raise IndexError('Linked list index out of range')\n",
    "        return node\n",
    "\n",
    "def _get_obj(id):\n",
    "    return ctypes.cast(id, ctypes.py_object).value\n",
    "\n",
    "testList = XorLinkedList()\n",
    "testList.add(Node(1))\n",
    "testList.add(Node(2))\n",
    "testList.add(Node(3))\n",
    "print(testList.get(1).val)"
   ]
  },
  {
   "cell_type": "markdown",
   "metadata": {},
   "source": [
    "_#Remark: My basic understanding of Python is amiss. I nedd to work on this...._"
   ]
  }
 ],
 "metadata": {
  "kernelspec": {
   "display_name": "Python 3",
   "language": "python",
   "name": "python3"
  },
  "language_info": {
   "codemirror_mode": {
    "name": "ipython",
    "version": 3
   },
   "file_extension": ".py",
   "mimetype": "text/x-python",
   "name": "python",
   "nbconvert_exporter": "python",
   "pygments_lexer": "ipython3",
   "version": "3.6.8"
  }
 },
 "nbformat": 4,
 "nbformat_minor": 2
}
